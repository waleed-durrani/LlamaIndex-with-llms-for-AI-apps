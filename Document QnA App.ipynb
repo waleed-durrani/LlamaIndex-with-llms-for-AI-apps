{
  "nbformat": 4,
  "nbformat_minor": 0,
  "metadata": {
    "colab": {
      "provenance": [],
      "authorship_tag": "ABX9TyNJLJjR77EIojNgrmDRk14v",
      "include_colab_link": true
    },
    "kernelspec": {
      "name": "python3",
      "display_name": "Python 3"
    },
    "language_info": {
      "name": "python"
    }
  },
  "cells": [
    {
      "cell_type": "markdown",
      "metadata": {
        "id": "view-in-github",
        "colab_type": "text"
      },
      "source": [
        "<a href=\"https://colab.research.google.com/github/waleed-durrani/LlamaIndex-with-llms-for-AI-apps/blob/main/Document%20QnA%20App.ipynb\" target=\"_parent\"><img src=\"https://colab.research.google.com/assets/colab-badge.svg\" alt=\"Open In Colab\"/></a>"
      ]
    },
    {
      "cell_type": "code",
      "execution_count": null,
      "metadata": {
        "id": "3gglxK8DbPBY"
      },
      "outputs": [],
      "source": [
        "!pip install -q llama-index\n",
        "!pip install -q openai\n",
        "!pip install -q transformers\n",
        "!pip install -q accelerate"
      ]
    },
    {
      "cell_type": "code",
      "source": [
        "import os\n",
        "os.environ[\"OPENAI_API_KEY\"] = \"sk-xxxxx...\""
      ],
      "metadata": {
        "id": "wenEJEN1bsCC"
      },
      "execution_count": 4,
      "outputs": []
    },
    {
      "cell_type": "code",
      "source": [
        "from llama_index.llms import openai\n",
        "from llama_index import SimpleDirectoryReader, VectorStoreIndex\n",
        "from IPython.display import Markdown, display"
      ],
      "metadata": {
        "id": "Gy2RX28HZP3w"
      },
      "execution_count": 5,
      "outputs": []
    },
    {
      "cell_type": "code",
      "source": [
        "# loading document\n",
        "documents = SimpleDirectoryReader(\"data\").load_data()"
      ],
      "metadata": {
        "id": "XmU_-rbXaTWC"
      },
      "execution_count": 6,
      "outputs": []
    },
    {
      "cell_type": "code",
      "source": [
        "# builds an index over the documents in the data folder (just consists of the post text, could contain many documents)\n",
        "index = VectorStoreIndex.from_documents(documents)"
      ],
      "metadata": {
        "id": "jy7fUQuwaVFO"
      },
      "execution_count": null,
      "outputs": []
    },
    {
      "cell_type": "code",
      "source": [
        "# creates an engine for Q&A over your index\n",
        "query_engine = index.as_query_engine()"
      ],
      "metadata": {
        "id": "vGv23L_Teu5X"
      },
      "execution_count": 8,
      "outputs": []
    },
    {
      "cell_type": "code",
      "source": [
        "# query your data\n",
        "response = query_engine.query(\"why technology choices are a curse for  developers? give me a one sentence answer.\")"
      ],
      "metadata": {
        "id": "WpIK-nTVvA4m"
      },
      "execution_count": 12,
      "outputs": []
    },
    {
      "cell_type": "code",
      "source": [
        "display(Markdown(f\"<b><i>{response}</b></i>\"))"
      ],
      "metadata": {
        "colab": {
          "base_uri": "https://localhost:8080/",
          "height": 64
        },
        "id": "_ui2dOYNxbl3",
        "outputId": "92e46c36-0282-46dc-b9cb-7c0063d90505"
      },
      "execution_count": 13,
      "outputs": [
        {
          "output_type": "display_data",
          "data": {
            "text/plain": [
              "<IPython.core.display.Markdown object>"
            ],
            "text/markdown": "<b><i>The curse of technology choices for developers is that the complexity and fragmentation of available tools can interfere with their workflow and lead to tech sprawl, which increases risks and hinders collaboration.</b></i>"
          },
          "metadata": {}
        }
      ]
    },
    {
      "cell_type": "code",
      "source": [],
      "metadata": {
        "id": "uBkxgzHzyWka"
      },
      "execution_count": null,
      "outputs": []
    }
  ]
}